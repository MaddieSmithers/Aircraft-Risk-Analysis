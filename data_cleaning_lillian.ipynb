{
 "cells": [
  {
   "cell_type": "code",
   "execution_count": null,
   "metadata": {},
   "outputs": [],
   "source": [
    "# Import packages\n",
    "import pandas as pd\n",
    "import numpy as np\n",
    "from numbers import Number\n",
    "import warnings\n",
    "warnings.filterwarnings('ignore')\n",
    "import matplotlib.pyplot as plt"
   ]
  },
  {
   "cell_type": "code",
   "execution_count": null,
   "metadata": {},
   "outputs": [],
   "source": [
    "# View directory\n",
    "!ls"
   ]
  },
  {
   "cell_type": "code",
   "execution_count": null,
   "metadata": {},
   "outputs": [],
   "source": [
    "# Import AviationData file\n",
    "aviation = pd.read_csv('AviationData.csv', encoding='ISO-8859-1', parse_dates=['Event.Date', 'Publication.Date'])"
   ]
  },
  {
   "cell_type": "code",
   "execution_count": null,
   "metadata": {},
   "outputs": [],
   "source": [
    "# Import USState_Codes file\n",
    "us_state_codes = pd.read_csv('USState_Codes.csv')\n",
    "us_state_codes.head()"
   ]
  },
  {
   "cell_type": "code",
   "execution_count": null,
   "metadata": {},
   "outputs": [],
   "source": [
    "# Explore data\n",
    "aviation.head()"
   ]
  },
  {
   "cell_type": "code",
   "execution_count": null,
   "metadata": {},
   "outputs": [],
   "source": [
    "aviation.tail()"
   ]
  },
  {
   "cell_type": "code",
   "execution_count": null,
   "metadata": {},
   "outputs": [],
   "source": [
    "aviation.describe()"
   ]
  },
  {
   "cell_type": "code",
   "execution_count": null,
   "metadata": {},
   "outputs": [],
   "source": [
    "aviation.info()"
   ]
  },
  {
   "cell_type": "code",
   "execution_count": null,
   "metadata": {},
   "outputs": [],
   "source": [
    "aviation.isna().sum()"
   ]
  },
  {
   "cell_type": "code",
   "execution_count": null,
   "metadata": {},
   "outputs": [],
   "source": [
    "# Found 938 duplicate Event.Ids\n",
    "aviation.duplicated(subset='Event.Id').value_counts()"
   ]
  },
  {
   "cell_type": "code",
   "execution_count": null,
   "metadata": {},
   "outputs": [],
   "source": [
    "# Drop duplicate Event.Ids\n",
    "aviation.drop_duplicates(subset='Event.Id', inplace=True)"
   ]
  },
  {
   "cell_type": "code",
   "execution_count": null,
   "metadata": {},
   "outputs": [],
   "source": [
    "\"\"\"\n",
    "Aircraft accident means an occurrence associated with the operation of an aircraft which takes place between the time any person boards the aircraft with the intention of flight and all such persons have disembarked, and in which any person suffers death or serious injury, or in which the aircraft receives substantial damage\n",
    "\n",
    "Incident means an occurrence other than an accident, associated with the operation of an aircraft, which affects \n",
    "\n",
    "Source: https://www.govinfo.gov/content/pkg/CFR-2011-title49-vol7/pdf/CFR-2011-title49-vol7-sec830-2.pdf\n",
    "\"\"\"\n",
    "\n",
    "aviation['Investigation.Type'].value_counts()"
   ]
  },
  {
   "cell_type": "code",
   "execution_count": null,
   "metadata": {},
   "outputs": [],
   "source": [
    "aviation['Accident.Number'].value_counts()"
   ]
  },
  {
   "cell_type": "code",
   "execution_count": null,
   "metadata": {},
   "outputs": [],
   "source": [
    "aviation.duplicated(subset='Accident.Number').value_counts()"
   ]
  },
  {
   "cell_type": "code",
   "execution_count": null,
   "metadata": {},
   "outputs": [],
   "source": [
    "# Split out the event date into year, month and day using DateTime methods\n",
    "\n",
    "aviation['Event.Year'] = aviation['Event.Date'].dt.year\n",
    "aviation['Event.Month'] = aviation['Event.Date'].dt.month\n",
    "aviation['Event.Day'] = aviation['Event.Date'].dt.day"
   ]
  },
  {
   "cell_type": "code",
   "execution_count": null,
   "metadata": {},
   "outputs": [],
   "source": [
    "# Create new dataframe of incidents by year\n",
    "incidents_by_year = aviation['Event.Year'].value_counts()\n",
    "incidents_by_year = incidents_by_year.sort_index()\n",
    "incidents_by_year"
   ]
  },
  {
   "cell_type": "code",
   "execution_count": null,
   "metadata": {},
   "outputs": [],
   "source": [
    "# Graph incidents by year\n",
    "years = list(incidents_by_year.index)\n",
    "incidents = list(incidents_by_year.values)\n",
    "\n",
    "fig, ax = plt.subplots(figsize=(16, 12))\n",
    "\n",
    "ax.bar(years, incidents)\n",
    "ax.set_title(\"Aircraft Incidents by Year\")\n",
    "ax.set_ylabel(\"Number of Incidents\")\n",
    "ax.set_xlabel(\"Years\")\n"
   ]
  },
  {
   "cell_type": "code",
   "execution_count": null,
   "metadata": {},
   "outputs": [],
   "source": [
    "\"\"\"\n",
    "Maddie: The number of airplane accidents by year rise until about 2009 then it remains relatively steady. I found an article that seems to back this up, I think it could be a good cut-off point!\n",
    "https://www.cnbc.com/2019/02/13/colgan-air-crash-10-years-ago-reshaped-us-aviation-safety.html\n",
    "\"\"\"\n",
    "\n",
    "# Filter only data after 2009\n",
    "# TODO: LL: Let's discuss the year cutoff point again as I'm not seeing the 2009 drop in the data. Was this after cleaning everything else\n",
    "aviation = aviation[aviation['Event.Year'] > 2009]"
   ]
  },
  {
   "cell_type": "code",
   "execution_count": null,
   "metadata": {},
   "outputs": [],
   "source": [
    "aviation.loc[(aviation['Country'] != 'United States')]"
   ]
  },
  {
   "cell_type": "code",
   "execution_count": null,
   "metadata": {},
   "outputs": [],
   "source": [
    "# Parse records for State column from records in Location column\n",
    "aviation['State'] = aviation['Location'].str.split(\", \").str[1]"
   ]
  },
  {
   "cell_type": "code",
   "execution_count": null,
   "metadata": {},
   "outputs": [],
   "source": [
    "# Update state records for non-US locations\n",
    "aviation.loc[aviation['Country'] != 'United States', 'State'] = 'non-US'"
   ]
  },
  {
   "cell_type": "code",
   "execution_count": null,
   "metadata": {},
   "outputs": [],
   "source": [
    "# Review State records\n",
    "aviation['State'].value_counts()"
   ]
  },
  {
   "cell_type": "code",
   "execution_count": null,
   "metadata": {},
   "outputs": [],
   "source": [
    "# Review State records that need to be cleaned\n",
    "aviation['State'].value_counts(sort=True, ascending=True)[:25]"
   ]
  },
  {
   "cell_type": "code",
   "execution_count": null,
   "metadata": {},
   "outputs": [],
   "source": [
    "# 1 record that is AO\n",
    "aviation.loc[(aviation['Location'] == 'Atlantic Ocean')]\n",
    "\n",
    "# 1 record that is AS\n",
    "aviation.loc[(aviation['State'] == \"MANU'A\")]\n",
    "\n",
    "# 1 record that is CA\n",
    "aviation.loc[(aviation['State'] == 'LA,')]\n",
    "\n",
    "# 2 records that are Unknown and 1 that is GM\n",
    "aviation.loc[(aviation['State'] == 'UN')]\n",
    "\n",
    "# 16 records that are HI\n",
    "aviation.loc[(aviation['State'] == 'MAUI') | (aviation['State'] == 'Maui') | (aviation['State'] == 'OAHU') | (aviation['State'] == 'KAUAI') | (aviation['State'] == 'HONOLULU')]\n",
    "\n",
    "# records that are non-US\n",
    "aviation.loc[(aviation['State'] == 'MG') | (aviation['State'] == 'OF')]\n",
    "\n",
    "# 1 record that is NY\n",
    "aviation.loc[(aviation['State'] == 'NYC')]\n",
    "\n",
    "# 1 record that is PR\n",
    "aviation.loc[(aviation['State'] == 'San Juan Is.')]\n",
    "\n",
    "# 1 record that is VI\n",
    "aviation.loc[(aviation['State'] == 'CB')]"
   ]
  },
  {
   "cell_type": "code",
   "execution_count": null,
   "metadata": {},
   "outputs": [],
   "source": [
    "# Change record to AO\n",
    "aviation.loc[(aviation['Location'] == 'Atlantic Ocean, OF'), 'State'] = 'AO'\n",
    "\n",
    "# Change record to AS\n",
    "aviation.loc[(aviation['State'] == \"MANU'A\"), 'State'] = 'AS'\n",
    "\n",
    "# Change record to CA\n",
    "aviation.loc[(aviation['State'] == 'LA,'), 'State'] = 'CA'\n",
    "\n",
    "# Change record to GM\n",
    "aviation.loc[(aviation['Location'] == 'GULF OF MEXICO, UN'), 'State'] = 'GM'\n",
    "\n",
    "# Change records to HI\n",
    "aviation.loc[(aviation['State'] == 'MAUI') | (aviation['State'] == 'Maui') | (aviation['State'] == 'OAHU') | (aviation['State'] == 'Oahu') | (aviation['State'] == 'KAUAI') | (aviation['State'] == 'HONOLULU'), 'State'] = 'HI'\n",
    "\n",
    "# # Change record to non-US\n",
    "aviation.loc[((aviation['State'] == 'MG') | (aviation['State'] == 'OF')) & (aviation['Location'] != 'Atlantic Ocean, OF'), 'State'] = 'non-US'\n",
    "\n",
    "# Change record to NY\n",
    "aviation.loc[(aviation['State'] == 'NYC'), 'State'] = 'NY'\n",
    "\n",
    "# Change record to PR\n",
    "aviation.loc[(aviation['State'] == 'San Juan Is.'), 'State'] = 'PR'\n",
    "\n",
    "# Change record to Unknown\n",
    "aviation.loc[(aviation['Location'] == 'Missing, UN') | (aviation['Location'] == 'Oceanic, UN'), 'State'] = 'Unknown'\n",
    "\n",
    "# Change record to VI\n",
    "aviation.loc[(aviation['State'] == 'CB'), 'State'] = 'VI'"
   ]
  },
  {
   "cell_type": "code",
   "execution_count": null,
   "metadata": {},
   "outputs": [],
   "source": [
    "# Verify all State records are cleaned\n",
    "aviation['State'].value_counts()"
   ]
  },
  {
   "cell_type": "code",
   "execution_count": null,
   "metadata": {},
   "outputs": [],
   "source": [
    "# Verify only Unknown and/or non-US state locations appear in cleaned State records\n",
    "invalid_state_locations = []\n",
    "\n",
    "for state in list(aviation['State'].value_counts().index):\n",
    "  if state not in list(us_state_codes['Abbreviation']):\n",
    "    invalid_state_locations.append(state)\n",
    "\n",
    "invalid_state_locations"
   ]
  },
  {
   "cell_type": "code",
   "execution_count": null,
   "metadata": {},
   "outputs": [],
   "source": [
    "aviation['Country'].isna().value_counts()"
   ]
  },
  {
   "cell_type": "code",
   "execution_count": null,
   "metadata": {},
   "outputs": [],
   "source": [
    "blank_countries = set(aviation.loc[(aviation['Country'].isna())]['Location'])\n",
    "blank_countries\n",
    "len(blank_countries) # 0 if years are 2009+, otherwise blank countries need to be scrubbed"
   ]
  },
  {
   "cell_type": "code",
   "execution_count": null,
   "metadata": {},
   "outputs": [],
   "source": [
    "# Fix Country for US locations with blank Country records\n",
    "\n",
    "# TODO: LL: Check more locations if year cutoff is prior to 2009\n",
    "\n",
    "valid_US_locations = [\n",
    " 'CHARLOTTE AMALI',\n",
    " 'CHRISTIANSTED',\n",
    "'FAJARDO',\n",
    " 'GUAM',\n",
    "'GUAYAMA',\n",
    "'Guam',\n",
    "'NEAR SAN JUAN',\n",
    " 'NEAR ST. CROIX',\n",
    " 'NO.ATLANTIC OC',\n",
    " 'SAINT CROIX',\n",
    " 'ST CROIX',\n",
    " 'ST THOMAS',\n",
    " 'ST. CROIX',\n",
    " 'ST. THOMAS',\n",
    " 'ST.THOMAS',\n",
    " 'STAKE ISLAND',\n",
    " 'VIEQUES']\n",
    "\n",
    "aviation.loc[(aviation['Location'].isin(valid_US_locations)), 'Country'] = 'United States'"
   ]
  },
  {
   "cell_type": "code",
   "execution_count": null,
   "metadata": {},
   "outputs": [],
   "source": [
    "# Fix State for US locations with blank Country records\n",
    "\n",
    "# TODO: LL: Check more locations if year cutoff is prior to 2009\n",
    "\n",
    "valid_VI_locations = [\n",
    "'CHARLOTTE AMALI',\n",
    " 'CHRISTIANSTED',\n",
    "'NEAR ST. CROIX',\n",
    "'SAINT CROIX',\n",
    " 'ST CROIX',\n",
    " 'ST THOMAS',\n",
    " 'ST. CROIX',\n",
    " 'ST. THOMAS',\n",
    "'ST.THOMAS',\n",
    "'VIEQUES']\n",
    "\n",
    "valid_PR_locations = [\n",
    "'FAJARDO',\n",
    "'GUAYAMA',\n",
    "'NEAR SAN JUAN']\n",
    "\n",
    "valid_GM_locations = [\n",
    " 'GUAM',\n",
    "'Guam']\n",
    "\n",
    "valid_AO_locations = [\n",
    "'NO.ATLANTIC OC']\n",
    "\n",
    "valid_MS_locations = [\n",
    "'STAKE ISLAND']\n",
    "\n",
    "aviation.loc[(aviation['Location'].isin(valid_VI_locations)), 'State'] = 'VI'\n",
    "aviation.loc[(aviation['Location'].isin(valid_PR_locations)), 'State'] = 'PR'\n",
    "aviation.loc[(aviation['Location'].isin(valid_GM_locations)), 'State'] = 'GM'\n",
    "aviation.loc[(aviation['Location'].isin(valid_AO_locations)), 'State'] = 'SO'\n",
    "aviation.loc[(aviation['Location'].isin(valid_MS_locations)), 'State'] = 'MS'\n",
    "\n"
   ]
  },
  {
   "cell_type": "code",
   "execution_count": null,
   "metadata": {},
   "outputs": [],
   "source": [
    "aviation['Amateur.Built'].value_counts()"
   ]
  },
  {
   "cell_type": "code",
   "execution_count": null,
   "metadata": {},
   "outputs": [],
   "source": [
    "# Remove amateur built planes\n",
    "aviation = aviation[aviation['Amateur.Built'] == 'No']"
   ]
  },
  {
   "cell_type": "code",
   "execution_count": null,
   "metadata": {},
   "outputs": [],
   "source": [
    "# Drop irrelevant columns\n",
    "aviation.drop(columns=['Accident.Number', 'Latitude', 'Longitude', 'Airport.Code', 'Airport.Name', 'Registration.Number', 'Amateur.Built', 'FAR.Description', 'Schedule', 'Publication.Date', 'Air.carrier'], inplace=True)"
   ]
  },
  {
   "cell_type": "code",
   "execution_count": null,
   "metadata": {},
   "outputs": [],
   "source": [
    "# Note: We no longer have records with format 'Fatal(#)' after dropping records with Event.Year prior to 2009\n",
    "aviation['Injury.Severity'].value_counts()"
   ]
  },
  {
   "cell_type": "code",
   "execution_count": null,
   "metadata": {},
   "outputs": [],
   "source": [
    "aviation['Aircraft.damage'].value_counts()"
   ]
  },
  {
   "cell_type": "code",
   "execution_count": null,
   "metadata": {},
   "outputs": [],
   "source": [
    "aviation['Aircraft.Category'].value_counts()"
   ]
  },
  {
   "cell_type": "code",
   "execution_count": null,
   "metadata": {},
   "outputs": [],
   "source": [
    "# Impute NaN values in Aircraft Category to \"airplane\"\n",
    "aviation['Aircraft.Category'].fillna('Airplane', inplace=True)"
   ]
  },
  {
   "cell_type": "code",
   "execution_count": null,
   "metadata": {},
   "outputs": [],
   "source": [
    "# Filter only airplanes\n",
    "aviation = aviation[aviation['Aircraft.Category'] == 'Airplane']"
   ]
  },
  {
   "cell_type": "code",
   "execution_count": null,
   "metadata": {},
   "outputs": [],
   "source": [
    "aviation['Make'].value_counts()"
   ]
  },
  {
   "cell_type": "code",
   "execution_count": null,
   "metadata": {},
   "outputs": [],
   "source": [
    "# Convert all rows in column 'Make' to title case strings for easier cleaning\n",
    "aviation['Make'] = aviation.Make.astype(str).str.title()"
   ]
  },
  {
   "cell_type": "code",
   "execution_count": null,
   "metadata": {},
   "outputs": [],
   "source": [
    "# Convert all rows in column 'Make' to objects\n",
    "aviation['Make'] = aviation['Make'].astype(object)"
   ]
  },
  {
   "cell_type": "code",
   "execution_count": null,
   "metadata": {},
   "outputs": [],
   "source": [
    "# Boeing is listed in several different formats in the data i.e 'The Boeing Company'. This code checks all rows in 'Make' for substring\n",
    "# 'boeing' and changes it the value to standard 'boeing'\n",
    "\n",
    "aviation['Make'].loc[aviation['Make'].str.contains('Boeing')] = 'Boeing'"
   ]
  },
  {
   "cell_type": "code",
   "execution_count": null,
   "metadata": {},
   "outputs": [],
   "source": [
    "def normalize_company_names(df, column_name, company_name):\n",
    "    '''Takes in df dataframe, checks every value in column_name for substring company_name\n",
    "        If substring company_name exists, the value of the row is overwritten to company_name.\n",
    "        Then returns the new df dataframe'''\n",
    "    df[column_name].loc[df[column_name].str.contains(company_name)] = company_name\n",
    "    return df"
   ]
  },
  {
   "cell_type": "code",
   "execution_count": null,
   "metadata": {},
   "outputs": [],
   "source": [
    "# Check function by normalizing all companies with 'Piper'\n",
    "normalize_company_names(aviation, 'Make', 'Piper')"
   ]
  },
  {
   "cell_type": "code",
   "execution_count": null,
   "metadata": {},
   "outputs": [],
   "source": [
    "# Normalize the company names of the top airline manufacturers\n",
    "normalize_company_names(aviation, 'Make', 'Boeing')\n",
    "normalize_company_names(aviation, 'Make', 'Airbus')\n",
    "normalize_company_names(aviation, 'Make', 'Cessna')\n",
    "normalize_company_names(aviation, 'Make', 'Beech')\n",
    "normalize_company_names(aviation, 'Make', 'Cirrus')"
   ]
  },
  {
   "cell_type": "code",
   "execution_count": null,
   "metadata": {},
   "outputs": [],
   "source": [
    "# Look at the top 20 companies by number of incidents\n",
    "aviation['Make'].value_counts()[0:20]"
   ]
  },
  {
   "cell_type": "code",
   "execution_count": null,
   "metadata": {},
   "outputs": [],
   "source": [
    "aviation['Model'].value_counts()"
   ]
  },
  {
   "cell_type": "code",
   "execution_count": null,
   "metadata": {},
   "outputs": [],
   "source": [
    "# TODO: LL: Should we keep records with blank Models?\n",
    "aviation['Model'].isna().value_counts()"
   ]
  },
  {
   "cell_type": "code",
   "execution_count": null,
   "metadata": {},
   "outputs": [],
   "source": [
    "aviation['Number.of.Engines'].value_counts()"
   ]
  },
  {
   "cell_type": "code",
   "execution_count": null,
   "metadata": {},
   "outputs": [],
   "source": [
    "# TODO: LL: Should we keep records with blank Number.of.Engines?\n",
    "aviation['Number.of.Engines'].isna().value_counts()"
   ]
  },
  {
   "cell_type": "code",
   "execution_count": null,
   "metadata": {},
   "outputs": [],
   "source": [
    "aviation['Engine.Type'].value_counts()"
   ]
  },
  {
   "cell_type": "code",
   "execution_count": null,
   "metadata": {},
   "outputs": [],
   "source": [
    "# TODO: LL: Should we keep records with blank Engine.Type?\n",
    "aviation['Engine.Type'].isna().value_counts()"
   ]
  },
  {
   "cell_type": "code",
   "execution_count": null,
   "metadata": {},
   "outputs": [],
   "source": [
    "aviation['Purpose.of.flight'].value_counts()"
   ]
  },
  {
   "cell_type": "code",
   "execution_count": null,
   "metadata": {},
   "outputs": [],
   "source": [
    "aviation['Total.Fatal.Injuries'].value_counts()"
   ]
  },
  {
   "cell_type": "code",
   "execution_count": null,
   "metadata": {},
   "outputs": [],
   "source": [
    "aviation['Total.Fatal.Injuries'].isna().value_counts()"
   ]
  },
  {
   "cell_type": "code",
   "execution_count": null,
   "metadata": {},
   "outputs": [],
   "source": [
    "aviation['Total.Minor.Injuries'].value_counts()"
   ]
  },
  {
   "cell_type": "code",
   "execution_count": null,
   "metadata": {},
   "outputs": [],
   "source": [
    "aviation['Total.Minor.Injuries'].isna().value_counts()"
   ]
  },
  {
   "cell_type": "code",
   "execution_count": null,
   "metadata": {},
   "outputs": [],
   "source": [
    "aviation['Total.Serious.Injuries'].value_counts()"
   ]
  },
  {
   "cell_type": "code",
   "execution_count": null,
   "metadata": {},
   "outputs": [],
   "source": [
    "aviation['Total.Serious.Injuries'].isna().value_counts()"
   ]
  },
  {
   "cell_type": "code",
   "execution_count": null,
   "metadata": {},
   "outputs": [],
   "source": [
    "aviation['Total.Uninjured'].value_counts()"
   ]
  },
  {
   "cell_type": "code",
   "execution_count": null,
   "metadata": {},
   "outputs": [],
   "source": [
    "aviation['Total.Uninjured'].isna().value_counts()"
   ]
  },
  {
   "cell_type": "code",
   "execution_count": null,
   "metadata": {},
   "outputs": [],
   "source": [
    "# Add total passengers column \n",
    "aviation['Total.Passengers'] = aviation['Total.Fatal.Injuries'] + aviation['Total.Minor.Injuries'] + aviation['Total.Serious.Injuries'] + aviation['Total.Uninjured']"
   ]
  },
  {
   "cell_type": "code",
   "execution_count": null,
   "metadata": {},
   "outputs": [],
   "source": [
    "aviation['Total.Passengers'].value_counts()"
   ]
  },
  {
   "cell_type": "code",
   "execution_count": null,
   "metadata": {},
   "outputs": [],
   "source": [
    "# Add percent fatalities column\n",
    "aviation['Percent.Fatalities'] = aviation['Total.Fatal.Injuries'] / aviation['Total.Passengers']"
   ]
  },
  {
   "cell_type": "code",
   "execution_count": null,
   "metadata": {},
   "outputs": [],
   "source": [
    "aviation['Percent.Fatalities'].value_counts()"
   ]
  },
  {
   "cell_type": "code",
   "execution_count": null,
   "metadata": {},
   "outputs": [],
   "source": [
    "# Create a column for the percent of passengers killed or injured in accident \n",
    "aviation['Percent.Passengers.Harmed'] = (aviation['Total.Fatal.Injuries'] + aviation['Total.Minor.Injuries'] + aviation['Total.Serious.Injuries']) / aviation['Total.Passengers']"
   ]
  },
  {
   "cell_type": "code",
   "execution_count": null,
   "metadata": {},
   "outputs": [],
   "source": [
    "aviation['Percent.Passengers.Harmed'].value_counts()"
   ]
  },
  {
   "cell_type": "code",
   "execution_count": null,
   "metadata": {},
   "outputs": [],
   "source": [
    "\"\"\"\n",
    "VMC stands for “visual meteorological conditions”. VMC conditions describe the weather conditions and situations in which a pilot can sufficiently and safely maintain visuals of all other aircraft and the terrain around them. \n",
    "IMC is “instrument meteorological conditions”. MC conditions describe a situation in which visibility and the weather require the pilot to rely on their instruments, and thus conduct an IFR flight.\n",
    "IFR stands for “instrument flight rules” and are utilized in situations where the weather or visibility is poor enough to warrant relying on the aircraft instruments only to maintain a safe flight. With both rule sets, the weather will decide what the pilot uses.\n",
    "Source: https://www.aerospaceexchange.com/blog/what-do-vmc-and-imc-mean-to-the-pilot\n",
    "\"\"\"\n",
    "\n",
    "aviation['Weather.Condition'].value_counts()\n"
   ]
  },
  {
   "cell_type": "code",
   "execution_count": null,
   "metadata": {},
   "outputs": [],
   "source": [
    "aviation['Weather.Condition'].isna().value_counts()"
   ]
  },
  {
   "cell_type": "code",
   "execution_count": null,
   "metadata": {},
   "outputs": [],
   "source": [
    "aviation['Broad.phase.of.flight'].value_counts()\n",
    "aviation['Broad.phase.of.flight'].describe()"
   ]
  },
  {
   "cell_type": "code",
   "execution_count": null,
   "metadata": {},
   "outputs": [],
   "source": [
    "# Drop 'Broad.Phase.of.Flight' column as there were too many null values and there are no records from 2009 and beyond\n",
    "aviation.drop(columns=['Broad.phase.of.flight'], inplace=True)"
   ]
  },
  {
   "cell_type": "code",
   "execution_count": null,
   "metadata": {},
   "outputs": [],
   "source": [
    "# TODO: LL: If time permits, we could gain additional insight by parsing records in the Report.Status column\n",
    "aviation['Report.Status'].value_counts()"
   ]
  },
  {
   "cell_type": "code",
   "execution_count": null,
   "metadata": {},
   "outputs": [],
   "source": [
    "aviation.describe()"
   ]
  },
  {
   "cell_type": "code",
   "execution_count": null,
   "metadata": {},
   "outputs": [],
   "source": [
    "aviation.info()"
   ]
  },
  {
   "cell_type": "code",
   "execution_count": null,
   "metadata": {},
   "outputs": [],
   "source": [
    "aviation.head()"
   ]
  },
  {
   "cell_type": "code",
   "execution_count": null,
   "metadata": {},
   "outputs": [],
   "source": []
  }
 ],
 "metadata": {
  "kernelspec": {
   "display_name": "learn-env",
   "language": "python",
   "name": "python3"
  },
  "language_info": {
   "codemirror_mode": {
    "name": "ipython",
    "version": 3
   },
   "file_extension": ".py",
   "mimetype": "text/x-python",
   "name": "python",
   "nbconvert_exporter": "python",
   "pygments_lexer": "ipython3",
   "version": "3.8.5"
  },
  "orig_nbformat": 4
 },
 "nbformat": 4,
 "nbformat_minor": 2
}
