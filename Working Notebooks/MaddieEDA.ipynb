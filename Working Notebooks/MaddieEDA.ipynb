{
 "cells": [
  {
   "cell_type": "code",
   "execution_count": 1,
   "metadata": {},
   "outputs": [],
   "source": [
    "import pandas as pd \n",
    "import matplotlib.pyplot as plt\n",
    "import numpy as np \n",
    "%matplotlib inline "
   ]
  },
  {
   "cell_type": "code",
   "execution_count": 2,
   "metadata": {},
   "outputs": [],
   "source": [
    "df = pd.read_csv('AviationDataClean.csv')"
   ]
  },
  {
   "cell_type": "code",
   "execution_count": 3,
   "metadata": {},
   "outputs": [],
   "source": [
    "df.drop(columns='Unnamed: 0', inplace=True)"
   ]
  },
  {
   "cell_type": "code",
   "execution_count": 4,
   "metadata": {},
   "outputs": [
    {
     "data": {
      "text/plain": [
       "Make    Model    \n",
       "Cessna  172          661\n",
       "Boeing  737          377\n",
       "Piper   PA28         261\n",
       "Cessna  182          246\n",
       "Cirrus  SR22         218\n",
       "Cessna  152          191\n",
       "        180          159\n",
       "        172S         156\n",
       "        150          146\n",
       "        172N         138\n",
       "Beech   A36          122\n",
       "Cessna  172M         112\n",
       "Piper   PA-18-150    110\n",
       "        PA-28-140    103\n",
       "Cessna  140           89\n",
       "        172P          84\n",
       "Piper   PA18          84\n",
       "Cessna  210           78\n",
       "Cirrus  SR20          75\n",
       "Mooney  M20J          73\n",
       "Name: Event.Id, dtype: int64"
      ]
     },
     "execution_count": 4,
     "metadata": {},
     "output_type": "execute_result"
    }
   ],
   "source": [
    "#top make/models (Would need to clean up the Make column)\n",
    "df.groupby(['Make', 'Model'])['Event.Id'].count().sort_values(ascending=False)[:20]"
   ]
  },
  {
   "cell_type": "code",
   "execution_count": 5,
   "metadata": {},
   "outputs": [],
   "source": [
    "df['Model'].fillna('Unknown', inplace=True)\n",
    "#df.loc[df['Model'].str.contains('737'), 'Model'] = '737'"
   ]
  },
  {
   "cell_type": "code",
   "execution_count": 6,
   "metadata": {},
   "outputs": [
    {
     "name": "stdout",
     "output_type": "stream",
     "text": [
      "['Cessna', 'Piper', 'Beech', 'Boeing', 'Cirrus', 'Mooney', 'Airbus', 'Air Tractor Inc', 'Bellanca', 'Aeronca']\n"
     ]
    }
   ],
   "source": [
    "top_makes = list(df['Make'].value_counts().sort_values(ascending=False).index)[:10]\n",
    "print(top_makes)"
   ]
  },
  {
   "cell_type": "code",
   "execution_count": 7,
   "metadata": {},
   "outputs": [],
   "source": [
    "#Clean Boeing\n",
    "df.loc[(df['Make'] == \"Boeing\") & (df['Model'].str.contains('PT', '17')), 'Model'] = \"PT-17\"\n",
    "df.loc[(df['Make'] == \"Boeing\") & (df['Model'].str.contains('737')), 'Model'] = \"737\"\n",
    "df.loc[(df['Make'] == \"Boeing\") & (df['Model'].str.contains('777')), 'Model'] = \"777\"\n",
    "df.loc[(df['Make'] == \"Boeing\") & (df['Model'].str.contains('757')), 'Model'] = \"757\"\n",
    "df.loc[(df['Make'] == \"Boeing\") & (df['Model'].str.contains('767')), 'Model'] = \"767\"\n",
    "df.loc[(df['Make'] == \"Boeing\") & (df['Model'].str.contains('787')), 'Model'] = \"787\"\n",
    "df.loc[(df['Make'] == \"Boeing\") & (df['Model'].str.contains('747')), 'Model'] = \"747\"\n",
    "df.loc[(df['Make'] == \"Boeing\") & (df['Model'].str.contains('727')), 'Model'] = \"727\"\n",
    "df.loc[(df['Make'] == \"Boeing\") & (df['Model'].str.contains('A75')), 'Model'] = \"A75\"\n",
    "df.loc[(df['Make'] == \"Boeing\") & (df['Model'].str.contains('717')), 'Model'] = \"717\""
   ]
  },
  {
   "cell_type": "code",
   "execution_count": 8,
   "metadata": {},
   "outputs": [
    {
     "data": {
      "text/plain": [
       "737         534\n",
       "777          98\n",
       "747          87\n",
       "767          86\n",
       "757          69\n",
       "PT-17        41\n",
       "787          40\n",
       "B75N1        16\n",
       "A75          11\n",
       "727           9\n",
       "E75           6\n",
       "B75           5\n",
       "717           4\n",
       "E75N1         1\n",
       "300           1\n",
       "2X6C          1\n",
       "707 338C      1\n",
       "400           1\n",
       "B17           1\n",
       "IB75A         1\n",
       "Name: Model, dtype: int64"
      ]
     },
     "execution_count": 8,
     "metadata": {},
     "output_type": "execute_result"
    }
   ],
   "source": [
    "df.loc[df['Make'] == \"Boeing\", 'Model'].value_counts()[:20]"
   ]
  },
  {
   "cell_type": "code",
   "execution_count": 9,
   "metadata": {},
   "outputs": [],
   "source": [
    "#clean up Cessna models\n",
    "df.loc[(df['Make'] == \"Cessna\") & (df['Model'].str.contains('172')), 'Model'] = \"172\"\n",
    "df.loc[(df['Make'] == \"Cessna\") & (df['Model'].str.contains('170')), 'Model'] = \"170\"\n",
    "df.loc[(df['Make'] == \"Cessna\") & (df['Model'].str.contains('A185')), 'Model'] = \"A185\"\n",
    "df.loc[(df['Make'] == \"Cessna\") & (df['Model'].str.contains('208')), 'Model'] = \"208\"\n",
    "df.loc[(df['Make'] == \"Cessna\") & (df['Model'].str.contains('182')), 'Model'] = \"182\"\n",
    "df.loc[(df['Make'] == \"Cessna\") & (df['Model'].str.contains('150')), 'Model'] = \"150\"\n"
   ]
  },
  {
   "cell_type": "code",
   "execution_count": 10,
   "metadata": {},
   "outputs": [
    {
     "data": {
      "text/plain": [
       "172      1467\n",
       "182       656\n",
       "150       367\n",
       "152       191\n",
       "170       160\n",
       "180       159\n",
       "A185      141\n",
       "208       116\n",
       "140        89\n",
       "210        78\n",
       "177        54\n",
       "P210N      43\n",
       "U206       43\n",
       "120        43\n",
       "T210       41\n",
       "177RG      39\n",
       "U206G      31\n",
       "175        31\n",
       "T210L      28\n",
       "T210N      27\n",
       "Name: Model, dtype: int64"
      ]
     },
     "execution_count": 10,
     "metadata": {},
     "output_type": "execute_result"
    }
   ],
   "source": [
    "df.loc[df['Make'] == \"Cessna\", 'Model'].value_counts()[:20]"
   ]
  },
  {
   "cell_type": "code",
   "execution_count": 11,
   "metadata": {},
   "outputs": [],
   "source": [
    "#Clean Cirrus Models\n",
    "df.loc[(df['Make'] == \"Cirrus\") & (df['Model'].str.contains('SR22')), 'Model'] = \"SR22\"\n",
    "df.loc[(df['Make'] == \"Cirrus\") & (df['Model'].str.contains('SR20')), 'Model'] = \"SR20\"\n",
    "df.loc[(df['Make'] == \"Cirrus\") & (df['Model'].str.contains('SR-22')), 'Model'] = \"SR22\""
   ]
  },
  {
   "cell_type": "code",
   "execution_count": 12,
   "metadata": {},
   "outputs": [
    {
     "data": {
      "text/plain": [
       "SR22    244\n",
       "SR20     76\n",
       "SF50      6\n",
       "SR        1\n",
       "Name: Model, dtype: int64"
      ]
     },
     "execution_count": 12,
     "metadata": {},
     "output_type": "execute_result"
    }
   ],
   "source": [
    "df.loc[df['Make'] == \"Cirrus\", 'Model'].value_counts()[:15]"
   ]
  },
  {
   "cell_type": "code",
   "execution_count": 13,
   "metadata": {},
   "outputs": [],
   "source": [
    "#Clean Piper Models \n",
    "df.loc[(df['Make'] == \"Piper\") & (df['Model'].str.contains('PA', '28')), 'Model'] = \"PA28\"\n",
    "df.loc[(df['Make'] == \"Piper\") & (df['Model'].str.contains('J', '3')), 'Model'] = \"J3\"\n",
    "df.loc[(df['Make'] == \"Piper\") & (df['Model'].str.contains('J5')), 'Model'] = \"J5\"\n",
    "df.loc[(df['Make'] == \"Piper\") & (df['Model'].str.contains('L', '21')), 'Model'] = \"L21\"\n",
    "df.loc[(df['Make'] == \"Piper\") & (df['Model'].str.contains('28')), 'Model'] = \"PA28\"\n"
   ]
  },
  {
   "cell_type": "code",
   "execution_count": 14,
   "metadata": {},
   "outputs": [
    {
     "data": {
      "text/plain": [
       "PA28             2836\n",
       "J3                114\n",
       "L21                 7\n",
       "AEROSTAR 601P       2\n",
       "AEROSTAR 602P       2\n",
       "Aerostar 601P       1\n",
       "Unknown             1\n",
       "AEROSTAR 600        1\n",
       "Name: Model, dtype: int64"
      ]
     },
     "execution_count": 14,
     "metadata": {},
     "output_type": "execute_result"
    }
   ],
   "source": [
    "df.loc[df['Make'] == \"Piper\", 'Model'].value_counts()[:15]"
   ]
  },
  {
   "cell_type": "code",
   "execution_count": 15,
   "metadata": {},
   "outputs": [],
   "source": [
    "#Clean Beech Models\n",
    "df.loc[(df['Make'] == \"Beech\") & (df['Model'].str.contains('36')), 'Model'] = \"36\"\n",
    "df.loc[(df['Make'] == \"Beech\") & (df['Model'].str.contains('33')), 'Model'] = \"33\"\n",
    "df.loc[(df['Make'] == \"Beech\") & (df['Model'].str.contains('23')), 'Model'] = \"23\"\n",
    "df.loc[(df['Make'] == \"Beech\") & (df['Model'].str.contains('35')), 'Model'] = \"35\"\n",
    "df.loc[(df['Make'] == \"Beech\") & (df['Model'].str.contains('200')), 'Model'] = \"200\"\n",
    "df.loc[(df['Make'] == \"Beech\") & (df['Model'].str.contains('55')), 'Model'] = \"55\"\n",
    "df.loc[(df['Make'] == \"Beech\") & (df['Model'].str.contains('1900')), 'Model'] = \"1900\"\n",
    "df.loc[(df['Make'] == \"Beech\") & (df['Model'].str.contains('58')), 'Model'] = \"58\"\n",
    "df.loc[(df['Make'] == \"Beech\") & (df['Model'].str.contains('100')), 'Model'] = \"100\"\n",
    "df.loc[(df['Make'] == \"Beech\") & (df['Model'].str.contains('E-90')), 'Model'] = \"90\"\n",
    "df.loc[(df['Make'] == \"Beech\") & (df['Model'].str.contains('C90')), 'Model'] = \"90\"\n",
    "df.loc[(df['Make'] == \"Beech\") & (df['Model'].str.contains('E90')), 'Model'] = \"90\"\n",
    "df.loc[(df['Make'] == \"Beech\") & (df['Model'].str.contains('F90')), 'Model'] = \"90\"\n",
    "df.loc[(df['Make'] == \"Beech\") & (df['Model'].str.contains('B90')), 'Model'] = \"90\"\n",
    "df.loc[(df['Make'] == \"Beech\") & (df['Model'].str.contains('300')), 'Model'] = \"9300\""
   ]
  },
  {
   "cell_type": "code",
   "execution_count": 16,
   "metadata": {},
   "outputs": [
    {
     "data": {
      "text/plain": [
       "35      217\n",
       "36      199\n",
       "55       95\n",
       "33       87\n",
       "58       83\n",
       "23       79\n",
       "90       60\n",
       "200      42\n",
       "1900     29\n",
       "76       22\n",
       "100      15\n",
       "9300     12\n",
       "B19      11\n",
       "C24R     10\n",
       "77        8\n",
       "D17S      7\n",
       "390       7\n",
       "99        6\n",
       "19A       6\n",
       "400       5\n",
       "95        5\n",
       "C24       5\n",
       "60        5\n",
       "65        4\n",
       "B60       4\n",
       "Name: Model, dtype: int64"
      ]
     },
     "execution_count": 16,
     "metadata": {},
     "output_type": "execute_result"
    }
   ],
   "source": [
    "df.loc[df['Make'] == \"Beech\", 'Model'].value_counts()[:25]"
   ]
  },
  {
   "cell_type": "code",
   "execution_count": 19,
   "metadata": {},
   "outputs": [],
   "source": [
    "#Clean Mooney\n",
    "df.loc[(df['Make'] == \"Mooney\") & (df['Model'].str.contains('M20')), 'Model'] = \"M20\"\n",
    "df.loc[(df['Make'] == \"Mooney\") & (df['Model'].str.contains('M-20')), 'Model'] = \"M20\"\n",
    "df.loc[(df['Make'] == \"Mooney\") & (df['Model'].str.contains('M 20')), 'Model'] = \"M20\""
   ]
  },
  {
   "cell_type": "code",
   "execution_count": 20,
   "metadata": {},
   "outputs": [
    {
     "data": {
      "text/plain": [
       "M20    252\n",
       "M10      1\n",
       "Name: Model, dtype: int64"
      ]
     },
     "execution_count": 20,
     "metadata": {},
     "output_type": "execute_result"
    }
   ],
   "source": [
    "df.loc[df['Make'] == \"Mooney\", 'Model'].value_counts()[:25]"
   ]
  },
  {
   "cell_type": "code",
   "execution_count": 40,
   "metadata": {},
   "outputs": [],
   "source": [
    "#Clean Airbus\n",
    "df.loc[(df['Make'] == \"Airbus\") & (df['Model'].str.contains('A320')), 'Model'] = \"A320\"\n",
    "df.loc[(df['Make'] == \"Airbus\") & (df['Model'].str.contains('A330')), 'Model'] = \"A330\"\n",
    "df.loc[(df['Make'] == \"Airbus\") & (df['Model'].str.contains('A321')), 'Model'] = \"A321\"\n",
    "df.loc[(df['Make'] == \"Airbus\") & (df['Model'].str.contains('319')), 'Model'] = \"A319\"\n",
    "df.loc[(df['Make'] == \"Airbus\") & (df['Model'].str.contains('A330')), 'Model'] = \"A330\"\n",
    "df.loc[(df['Make'] == \"Airbus\") & (df['Model'].str.contains('A380')), 'Model'] = \"A380\"\n",
    "df.loc[(df['Make'] == \"Airbus\") & (df['Model'].str.contains('A300')), 'Model'] = \"A300\"\n",
    "df.loc[(df['Make'] == \"Airbus\") & (df['Model'] == '330'), 'Model'] = \"A330\"\n",
    "df.loc[(df['Make'] == \"Airbus\") & (df['Model'] == '321'), 'Model'] = \"A321\"\n",
    "df.loc[(df['Make'] == \"Airbus\") & (df['Model'].str.contains('A310')), 'Model'] = \"A310\"\n",
    "df.loc[(df['Make'] == \"Airbus\") & (df['Model'].str.contains('A340')), 'Model'] = \"A340\"\n",
    "df.loc[(df['Make'] == \"Airbus\") & (df['Model'].str.contains('320')), 'Model'] = \"A320\"\n",
    "df.loc[(df['Make'] == \"Airbus\") & (df['Model'] == '330-200'), 'Model'] = \"A330\"\n",
    "\n"
   ]
  },
  {
   "cell_type": "code",
   "execution_count": 41,
   "metadata": {},
   "outputs": [
    {
     "data": {
      "text/plain": [
       "A320                   103\n",
       "A330                    46\n",
       "A321                    36\n",
       "A319                    32\n",
       "A300                    12\n",
       "A380                     5\n",
       "A220                     4\n",
       "F4-622R                  1\n",
       "A310                     1\n",
       "A340                     1\n",
       "BD-500-1A11 (CS300)      1\n",
       "Name: Model, dtype: int64"
      ]
     },
     "execution_count": 41,
     "metadata": {},
     "output_type": "execute_result"
    }
   ],
   "source": [
    "df.loc[df['Make'] == \"Airbus\", 'Model'].value_counts()[:25]"
   ]
  },
  {
   "cell_type": "code",
   "execution_count": 84,
   "metadata": {},
   "outputs": [],
   "source": [
    "df.loc[(df['Make'] == \"Embraer\") & (df['Model'].str.contains('190')), 'Model'] = \"ERJ190\"\n",
    "df.loc[(df['Make'] == \"Embraer\") & (df['Model'].str.contains('ERJ 190')), 'Model'] = \"ERJ190\"\n",
    "df.loc[(df['Make'] == \"Embraer\") & (df['Model'].str.contains('145')), 'Model'] = \"EMB145\"\n",
    "df.loc[(df['Make'] == \"Embraer\") & (df['Model'].str.contains('ERJ 170')), 'Model'] = \"ERJ170\"\n",
    "df.loc[(df['Make'] == \"Embraer\") & (df['Model'].str.contains('ERJ170')), 'Model'] = \"ERJ170\"\n",
    "df.loc[(df['Make'] == \"Embraer\") & (df['Model'].str.contains('EMB 145')), 'Model'] = \"EMB145\"\n",
    "df.loc[(df['Make'] == \"Embraer\") & (df['Model'].str.contains('505')), 'Model'] = \"EMB505\"\n",
    "df.loc[(df['Make'] == \"Embraer\") & (df['Model'].str.contains('EMB 135')), 'Model'] = \"EMB135\"\n",
    "df.loc[(df['Make'] == \"Embraer\") & (df['Model'].str.contains('EMB721')), 'Model'] = \"EMB721\"\n",
    "df.loc[(df['Make'] == \"Embraer\") & (df['Model'].str.contains('500')), 'Model'] = \"EMB500\"\n",
    "df.loc[(df['Make'] == \"Embraer\") & (df['Model'].str.contains('135')), 'Model'] = \"EMB135\"\n",
    "df.loc[(df['Make'] == \"Embraer\") & (df['Model'].str.contains('720')), 'Model'] = \"EMB720\"\n",
    "df.loc[(df['Make'] == \"Embraer\") & (df['Model'].str.contains('120')), 'Model'] = \"EMB120\"\n",
    "df.loc[(df['Make'] == \"Embraer\") & (df['Model'].str.contains('175')), 'Model'] = \"ERJ175\"\n",
    "df.loc[(df['Make'] == \"Embraer\") & (df['Model'].str.contains('711')), 'Model'] = \"EMB711\"\n",
    "df.loc[(df['Make'] == \"Embraer\") & (df['Model'].str.contains('810')), 'Model'] = \"EMB810\"\n",
    "df.loc[(df['Make'] == \"Embraer\") & (df['Model'].str.contains('710')), 'Model'] = \"EMB710\"\n",
    "df.loc[(df['Make'] == \"Embraer\") & (df['Model'].str.contains('110')), 'Model'] = \"EMB110\"\n",
    "df.loc[(df['Make'] == \"Embraer\") & (df['Model'].str.contains('202')), 'Model'] = \"EMB202\""
   ]
  },
  {
   "cell_type": "code",
   "execution_count": 85,
   "metadata": {},
   "outputs": [
    {
     "data": {
      "text/plain": [
       "EMB145     34\n",
       "ERJ190     30\n",
       "ERJ170     11\n",
       "EMB135      7\n",
       "EMB120      7\n",
       "EMB500      6\n",
       "EMB720      5\n",
       "EMB505      5\n",
       "EMB711      4\n",
       "EMB810      3\n",
       "EMB710      3\n",
       "EMB721      2\n",
       "ERJ175      2\n",
       "EMB202      2\n",
       "EMB110      2\n",
       "Unknown     1\n",
       "EMB820      1\n",
       "Name: Model, dtype: int64"
      ]
     },
     "execution_count": 85,
     "metadata": {},
     "output_type": "execute_result"
    }
   ],
   "source": [
    "df.loc[df['Make'] == \"Embraer\", 'Model'].value_counts()[:25]"
   ]
  },
  {
   "cell_type": "code",
   "execution_count": null,
   "metadata": {},
   "outputs": [],
   "source": []
  }
 ],
 "metadata": {
  "kernelspec": {
   "display_name": "learn-env",
   "language": "python",
   "name": "python3"
  },
  "language_info": {
   "codemirror_mode": {
    "name": "ipython",
    "version": 3
   },
   "file_extension": ".py",
   "mimetype": "text/x-python",
   "name": "python",
   "nbconvert_exporter": "python",
   "pygments_lexer": "ipython3",
   "version": "3.10.11"
  },
  "orig_nbformat": 4
 },
 "nbformat": 4,
 "nbformat_minor": 2
}
